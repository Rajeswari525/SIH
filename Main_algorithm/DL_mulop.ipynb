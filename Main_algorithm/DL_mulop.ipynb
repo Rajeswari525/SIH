{
 "cells": [
  {
   "cell_type": "code",
   "execution_count": 56,
   "metadata": {},
   "outputs": [],
   "source": [
    "import matplotlib\n",
    "%matplotlib inline\n",
    "\n",
    "from tensorflow.keras.optimizers import Adam\n",
    "from tensorflow.keras.preprocessing.image import img_to_array\n",
    "from sklearn.preprocessing import LabelBinarizer\n",
    "from sklearn.model_selection import train_test_split\n",
    "from numpy import expand_dims\n",
    "from keras.preprocessing.image import load_img\n",
    "from keras.preprocessing.image import img_to_array\n",
    "\n",
    "\n",
    "from imutils import paths\n",
    "import matplotlib.pyplot as plt\n",
    "import numpy as np\n",
    "import argparse\n",
    "import random\n",
    "import pickle\n",
    "import cv2\n",
    "import os\n",
    "\n",
    "from tensorflow.keras.preprocessing.image import ImageDataGenerator\n",
    "from tensorflow.keras.models import Model\n",
    "from tensorflow.keras.layers import BatchNormalization\n",
    "from tensorflow.keras.layers import Conv2D\n",
    "from tensorflow.keras.layers import MaxPooling2D\n",
    "from tensorflow.keras.layers import Activation\n",
    "from tensorflow.keras.layers import Dropout\n",
    "from tensorflow.keras.layers import Lambda\n",
    "from tensorflow.keras.layers import Dense\n",
    "from tensorflow.keras.layers import Flatten\n",
    "from tensorflow.keras.layers import Input\n",
    "import tensorflow as tf"
   ]
  },
  {
   "cell_type": "code",
   "execution_count": 3,
   "metadata": {},
   "outputs": [],
   "source": [
    "EPOCHS = 50\n",
    "INIT_LR = 1e-3\n",
    "BS = 32\n",
    "IMAGE_DIMS = (96, 96, 3)"
   ]
  },
  {
   "cell_type": "code",
   "execution_count": 57,
   "metadata": {},
   "outputs": [],
   "source": [
    "class MyModel:\n",
    "    @staticmethod\n",
    "    def build_type_branch(inputs, numTypes,\n",
    "        finalAct=\"softmax\", chanDim=-1):\n",
    "       \n",
    "        \n",
    "      \n",
    "        x = Conv2D(32, (3, 3), padding=\"same\")(inputs)\n",
    "        x = Activation(\"relu\")(x)\n",
    "        x = BatchNormalization(axis=chanDim)(x)\n",
    "        x = MaxPooling2D(pool_size=(3, 3))(x)\n",
    "        x = Dropout(0.25)(x)\n",
    "        x = Conv2D(64, (3, 3), padding=\"same\")(x)\n",
    "        x = Activation(\"relu\")(x)\n",
    "        x = BatchNormalization(axis=chanDim)(x)\n",
    "        x = Conv2D(64, (3, 3), padding=\"same\")(x)\n",
    "        x = Activation(\"relu\")(x)\n",
    "        x = BatchNormalization(axis=chanDim)(x)\n",
    "        x = MaxPooling2D(pool_size=(2, 2))(x)\n",
    "        x = Dropout(0.25)(x)\n",
    "        \n",
    "        x = Conv2D(32, (3, 3), padding=\"same\")(x)\n",
    "        x = Activation(\"relu\")(x)\n",
    "        x = BatchNormalization(axis=chanDim)(x)\n",
    "        x = MaxPooling2D(pool_size=(3, 3))(x)\n",
    "        x = Dropout(0.25)(x)\n",
    "        x = Conv2D(64, (3, 3), padding=\"same\")(x)\n",
    "        x = Activation(\"relu\")(x)\n",
    "        x = BatchNormalization(axis=chanDim)(x)\n",
    "        x = Conv2D(64, (3, 3), padding=\"same\")(x)\n",
    "        x = Activation(\"relu\")(x)\n",
    "        x = BatchNormalization(axis=chanDim)(x)\n",
    "        x = MaxPooling2D(pool_size=(2, 2))(x)\n",
    "        x = Dropout(0.25)(x)\n",
    "       \n",
    "        x = Conv2D(128, (3, 3), padding=\"same\")(x)\n",
    "        x = Activation(\"relu\")(x)\n",
    "        x = BatchNormalization(axis=chanDim)(x)\n",
    "        x = Conv2D(128, (3, 3), padding=\"same\")(x)\n",
    "        x = Activation(\"relu\")(x)\n",
    "        x = BatchNormalization(axis=chanDim)(x)\n",
    "        x = MaxPooling2D(pool_size=(2, 2))(x)\n",
    "        x = Dropout(0.25)(x)\n",
    "        \n",
    "        x = Flatten()(x)\n",
    "        x = Dense(256)(x)\n",
    "        x = Activation(\"relu\")(x)\n",
    "        x = BatchNormalization()(x)\n",
    "        x = Dropout(0.5)(x)\n",
    "        x = Dense(numTypes)(x)\n",
    "        x = Activation(finalAct, name=\"type_output\")(x)\n",
    "       \n",
    "        return x\n",
    "    \n",
    "    @staticmethod\n",
    "    def build_color_branch(inputs, numColors, finalAct=\"softmax\",\n",
    "        chanDim=-1):\n",
    "        # CONV => RELU => POOL\n",
    "        x = Conv2D(16, (3, 3), padding=\"same\")(inputs)\n",
    "        x = Activation(\"relu\")(x)\n",
    "        x = BatchNormalization(axis=chanDim)(x)\n",
    "        x = MaxPooling2D(pool_size=(3, 3))(x)\n",
    "        x = Dropout(0.25)(x)\n",
    "        # CONV => RELU => POOL\n",
    "        x = Conv2D(32, (3, 3), padding=\"same\")(x)\n",
    "        x = Activation(\"relu\")(x)\n",
    "        x = BatchNormalization(axis=chanDim)(x)\n",
    "        x = MaxPooling2D(pool_size=(2, 2))(x)\n",
    "        x = Dropout(0.25)(x)\n",
    "        # CONV => RELU => POOL\n",
    "        x = Conv2D(32, (3, 3), padding=\"same\")(x)\n",
    "        x = Activation(\"relu\")(x)\n",
    "        x = BatchNormalization(axis=chanDim)(x)\n",
    "        x = MaxPooling2D(pool_size=(2, 2))(x)\n",
    "        x = Dropout(0.25)(x)\n",
    "        \n",
    "        x = Flatten()(x)\n",
    "        x = Dense(128)(x)\n",
    "        x = Activation(\"relu\")(x)\n",
    "        x = BatchNormalization()(x)\n",
    "        x = Dropout(0.5)(x)\n",
    "        x = Dense(numColors)(x)\n",
    "        x = Activation(finalAct, name=\"color_output\")(x)\n",
    "       \n",
    "        return x\n",
    "    \n",
    "    @staticmethod\n",
    "    def build_company_branch(inputs, numCompanies, finalAct=\"softmax\",\n",
    "        chanDim=-1):\n",
    "       \n",
    "        x = Conv2D(16, (3, 3), padding=\"same\")(inputs)\n",
    "        x = Activation(\"relu\")(x)\n",
    "        x = BatchNormalization(axis=chanDim)(x)\n",
    "        x = MaxPooling2D(pool_size=(3, 3))(x)\n",
    "        x = Dropout(0.5)(x)\n",
    "       \n",
    "        x = Conv2D(32, (3, 3), padding=\"same\")(x)\n",
    "        x = Activation(\"relu\")(x)\n",
    "        x = BatchNormalization(axis=chanDim)(x)\n",
    "        x = MaxPooling2D(pool_size=(2, 2))(x)\n",
    "        x = Dropout(0.5)(x)\n",
    "        \n",
    "        x = Conv2D(32, (3, 3), padding=\"same\")(x)\n",
    "        x = Activation(\"relu\")(x)\n",
    "        x = BatchNormalization(axis=chanDim)(x)\n",
    "        x = MaxPooling2D(pool_size=(2, 2))(x)\n",
    "        x = Dropout(0.5)(x)\n",
    "        \n",
    "        x = Conv2D(32, (3, 3), padding=\"same\")(x)\n",
    "        x = Activation(\"relu\")(x)\n",
    "        x = BatchNormalization(axis=chanDim)(x)\n",
    "        x = MaxPooling2D(pool_size=(2, 2))(x)\n",
    "        x = Dropout(0.5)(x)\n",
    "        \n",
    "        \n",
    "        x = Flatten()(x)\n",
    "        x = Dense(128)(x)\n",
    "        x = Activation(\"relu\")(x)\n",
    "        x = BatchNormalization()(x)\n",
    "        x = Dropout(0.5)(x)\n",
    "        x = Dense(numCompanies)(x)\n",
    "        x = Activation(finalAct, name=\"company_output\")(x)\n",
    "       \n",
    "        return x\n",
    "    \n",
    "    @staticmethod\n",
    "    def build_view_branch(inputs, numViews, finalAct=\"softmax\",\n",
    "        chanDim=-1):\n",
    "       \n",
    "        x = Conv2D(16, (3, 3), padding=\"same\")(inputs)\n",
    "        x = Activation(\"relu\")(x)\n",
    "        x = BatchNormalization(axis=chanDim)(x)\n",
    "        x = MaxPooling2D(pool_size=(3, 3))(x)\n",
    "        x = Dropout(0.25)(x)\n",
    "       \n",
    "        x = Conv2D(32, (3, 3), padding=\"same\")(x)\n",
    "        x = Activation(\"relu\")(x)\n",
    "        x = BatchNormalization(axis=chanDim)(x)\n",
    "        x = MaxPooling2D(pool_size=(2, 2))(x)\n",
    "        x = Dropout(0.25)(x)\n",
    "        \n",
    "        x = Conv2D(32, (3, 3), padding=\"same\")(x)\n",
    "        x = Activation(\"relu\")(x)\n",
    "        x = BatchNormalization(axis=chanDim)(x)\n",
    "        x = MaxPooling2D(pool_size=(2, 2))(x)\n",
    "        x = Dropout(0.25)(x)\n",
    "        \n",
    "        x = Flatten()(x)\n",
    "        x = Dense(128)(x)\n",
    "        x = Activation(\"relu\")(x)\n",
    "        x = BatchNormalization()(x)\n",
    "        x = Dropout(0.5)(x)\n",
    "        x = Dense(numViews)(x)\n",
    "        x = Activation(finalAct, name=\"view_output\")(x)\n",
    "       \n",
    "        return x\n",
    "    @staticmethod\n",
    "    def build_height_branch(inputs, numHeight=1, finalAct=\"relu\",\n",
    "        chanDim=-1):\n",
    "        x = Lambda(lambda c: tf.image.rgb_to_grayscale(c))(inputs)\n",
    "      \n",
    "        x = Conv2D(32, (3, 3), padding=\"same\")(x)\n",
    "        x = Activation(\"relu\")(x)\n",
    "        x = BatchNormalization(axis=chanDim)(x)\n",
    "        x = MaxPooling2D(pool_size=(3, 3))(x)\n",
    "        x = Dropout(0.25)(x)\n",
    "        x = Conv2D(64, (3, 3), padding=\"same\")(x)\n",
    "        x = Activation(\"relu\")(x)\n",
    "        x = BatchNormalization(axis=chanDim)(x)\n",
    "        x = Conv2D(64, (3, 3), padding=\"same\")(x)\n",
    "        x = Activation(\"relu\")(x)\n",
    "        x = BatchNormalization(axis=chanDim)(x)\n",
    "        x = MaxPooling2D(pool_size=(2, 2))(x)\n",
    "        x = Dropout(0.25)(x)\n",
    "       \n",
    "        x = Conv2D(128, (3, 3), padding=\"same\")(x)\n",
    "        x = Activation(\"relu\")(x)\n",
    "        x = BatchNormalization(axis=chanDim)(x)\n",
    "        x = Conv2D(128, (3, 3), padding=\"same\")(x)\n",
    "        x = Activation(\"relu\")(x)\n",
    "        x = BatchNormalization(axis=chanDim)(x)\n",
    "        x = MaxPooling2D(pool_size=(2, 2))(x)\n",
    "        x = Dropout(0.25)(x)\n",
    "        \n",
    "        x = Flatten()(x)\n",
    "        x = Dense(256)(x)\n",
    "        x = Activation(\"relu\")(x)\n",
    "        x = BatchNormalization()(x)\n",
    "        x = Dropout(0.5)(x)\n",
    "        x = Dense(numHeight)(x)\n",
    "        x = Activation(finalAct, name=\"height_output\")(x)\n",
    "        \n",
    "        return x\n",
    "    \n",
    "    @staticmethod\n",
    "    def build_scratch_branch(inputs, numScratch=1, finalAct=\"sigmoid\",\n",
    "        chanDim=-1):\n",
    "        x = Lambda(lambda c: tf.image.rgb_to_grayscale(c))(inputs)\n",
    "      \n",
    "        x = Conv2D(32, (3, 3), padding=\"same\")(x)\n",
    "        x = Activation(\"relu\")(x)\n",
    "        x = BatchNormalization(axis=chanDim)(x)\n",
    "        x = MaxPooling2D(pool_size=(3, 3))(x)\n",
    "        x = Dropout(0.25)(x)\n",
    "        x = Conv2D(64, (3, 3), padding=\"same\")(x)\n",
    "        x = Activation(\"relu\")(x)\n",
    "        x = BatchNormalization(axis=chanDim)(x)\n",
    "        x = Conv2D(64, (3, 3), padding=\"same\")(x)\n",
    "        x = Activation(\"relu\")(x)\n",
    "        x = BatchNormalization(axis=chanDim)(x)\n",
    "        x = MaxPooling2D(pool_size=(2, 2))(x)\n",
    "        x = Dropout(0.25)(x)\n",
    "       \n",
    "        x = Conv2D(128, (3, 3), padding=\"same\")(x)\n",
    "        x = Activation(\"relu\")(x)\n",
    "        x = BatchNormalization(axis=chanDim)(x)\n",
    "        x = Conv2D(128, (3, 3), padding=\"same\")(x)\n",
    "        x = Activation(\"relu\")(x)\n",
    "        x = BatchNormalization(axis=chanDim)(x)\n",
    "        x = MaxPooling2D(pool_size=(2, 2))(x)\n",
    "        x = Dropout(0.25)(x)\n",
    "        \n",
    "        x = Flatten()(x)\n",
    "        x = Dense(256)(x)\n",
    "        x = Activation(\"relu\")(x)\n",
    "        x = BatchNormalization()(x)\n",
    "        x = Dropout(0.5)(x)\n",
    "        x = Dense(numScratch)(x)\n",
    "        x = Activation(finalAct, name=\"scratch_output\")(x)\n",
    "        return x\n",
    "    \n",
    "    \n",
    "    \n",
    "    @staticmethod\n",
    "    def build_width_branch(inputs, numWidth=1, finalAct=\"relu\",\n",
    "        chanDim=-1):\n",
    "        x = Lambda(lambda c: tf.image.rgb_to_grayscale(c))(inputs)\n",
    "      \n",
    "        x = Conv2D(32, (3, 3), padding=\"same\")(x)\n",
    "        x = Activation(\"relu\")(x)\n",
    "        x = BatchNormalization(axis=chanDim)(x)\n",
    "        x = MaxPooling2D(pool_size=(3, 3))(x)\n",
    "        x = Dropout(0.25)(x)\n",
    "        x = Conv2D(64, (3, 3), padding=\"same\")(x)\n",
    "        x = Activation(\"relu\")(x)\n",
    "        x = BatchNormalization(axis=chanDim)(x)\n",
    "        x = Conv2D(64, (3, 3), padding=\"same\")(x)\n",
    "        x = Activation(\"relu\")(x)\n",
    "        x = BatchNormalization(axis=chanDim)(x)\n",
    "        x = MaxPooling2D(pool_size=(2, 2))(x)\n",
    "        x = Dropout(0.25)(x)\n",
    "       \n",
    "        x = Conv2D(128, (3, 3), padding=\"same\")(x)\n",
    "        x = Activation(\"relu\")(x)\n",
    "        x = BatchNormalization(axis=chanDim)(x)\n",
    "        x = Conv2D(128, (3, 3), padding=\"same\")(x)\n",
    "        x = Activation(\"relu\")(x)\n",
    "        x = BatchNormalization(axis=chanDim)(x)\n",
    "        x = MaxPooling2D(pool_size=(2, 2))(x)\n",
    "        x = Dropout(0.25)(x)\n",
    "        \n",
    "        x = Flatten()(x)\n",
    "        x = Dense(256)(x)\n",
    "        x = Activation(\"relu\")(x)\n",
    "        x = BatchNormalization()(x)\n",
    "        x = Dropout(0.5)(x)\n",
    "        x = Dense(numWidth)(x)\n",
    "        x = Activation(finalAct, name=\"width_output\")(x)\n",
    "        \n",
    "        return x\n",
    "    @staticmethod\n",
    "    def build(width, height, numTypes, numColors,numCompanies,numViews =5,finalAct=\"softmax\"):\n",
    "        \n",
    "        inputShape = (height, width, 3)\n",
    "        chanDim = -1\n",
    "        \n",
    "        inputs = Input(shape=inputShape)\n",
    "        typeBranch = MyModel.build_type_branch(inputs,\n",
    "            numTypes, finalAct=finalAct, chanDim=chanDim\n",
    "        ) \n",
    "        colorBranch = MyModel.build_color_branch(inputs,\n",
    "            numColors, finalAct=finalAct, chanDim=chanDim)\n",
    "        companyBranch = MyModel.build_company_branch(\n",
    "            inputs,\n",
    "            numCompanies, finalAct=finalAct, chanDim=chanDim\n",
    "        )\n",
    "        viewBranch =  MyModel. build_view_branch(inputs,\n",
    "            numViews, finalAct=finalAct, chanDim=chanDim\n",
    "        )\n",
    "        scratchBranch = MyModel.build_scratch_branch(inputs)\n",
    "        \n",
    "        model = Model(\n",
    "            inputs=inputs,\n",
    "            outputs=[typeBranch, colorBranch\n",
    "                     #,companyBranch,\n",
    "                     ##scratchBranch,viewBranch\n",
    "                    ],\n",
    "            name=\"mymodel\")\n",
    "       \n",
    "        return model\n",
    "    \n",
    "       \n",
    "    \n",
    "    "
   ]
  },
  {
   "cell_type": "code",
   "execution_count": 58,
   "metadata": {},
   "outputs": [],
   "source": [
    "EPOCHS = 50\n",
    "INIT_LR = 1e-3\n",
    "BS = 32\n",
    "IMAGE_DIMS = (96, 96, 3)"
   ]
  },
  {
   "cell_type": "code",
   "execution_count": 6,
   "metadata": {},
   "outputs": [
    {
     "name": "stdout",
     "output_type": "stream",
     "text": [
      "[INFO] compiling model...\n"
     ]
    }
   ],
   "source": [
    "losses = {\n",
    "    \"type_output\": \"categorical_crossentropy\",\n",
    "    \"color_output\": \"categorical_crossentropy\",\n",
    "    \"company_output\":\"categorical_crossentropy\",\n",
    "    #\"scratch_output\":\"binary_crossentropy\",\n",
    "    #\"view_output\":\"categorical_crossentropy\"\n",
    "}\n",
    "\n",
    "lossWeights = {\"type_output\": 1.0, \"color_output\": 1.0,\"company_output\":1.0,\n",
    "              #\"scratch_output\":0.1,\"view_output\":1.0\n",
    "              }\n",
    "model = MyModel.build(96,96,3,10,10)\n",
    "\n",
    "print(\"[INFO] compiling model...\")\n",
    "opt = Adam(lr=INIT_LR, decay=INIT_LR / EPOCHS)\n",
    "model.compile(optimizer=opt, loss=losses, loss_weights=lossWeights,\n",
    "    metrics=[\"accuracy\"])"
   ]
  },
  {
   "cell_type": "code",
   "execution_count": 7,
   "metadata": {},
   "outputs": [
    {
     "name": "stdout",
     "output_type": "stream",
     "text": [
      "[INFO] loading images...\n"
     ]
    }
   ],
   "source": [
    "# grab the image paths and randomly shuffle them\n",
    "print(\"[INFO] loading images...\")\n",
    "imagePaths = sorted(list(paths.list_images(\"data\")))\n",
    "random.seed(42)\n",
    "random.shuffle(imagePaths)\n",
    "# initialize the data, clothing category labels (i.e., shirts, jeans,\n",
    "# dresses, etc.) along with the color labels (i.e., red, blue, etc.)\n",
    "data = []\n",
    "categoryLabels = []\n",
    "colorLabels = []"
   ]
  },
  {
   "cell_type": "code",
   "execution_count": 8,
   "metadata": {},
   "outputs": [],
   "source": [
    "def augmented_images_generations(path,no_of_images):\n",
    "    d = os.listdir(path)\n",
    "     \n",
    "    for j in range(len(d)):\n",
    "        (type,color,company,height,width,scratch,view) = d[j].split('_')[:]\n",
    "        view = view.split('.')[0]\n",
    "        (type,color,company,height,width,scratch,view) = [x.lower() for x in (type,color,company,height,width,scratch,view)]\n",
    "        print(type,color,company,height,width,scratch,view)\n",
    "        img = load_img(os.path.join(path,d[j]))\n",
    "       \n",
    "        \n",
    "        data = img_to_array(img)\n",
    "        samples = expand_dims(data, 0)\n",
    "        datagen = ImageDataGenerator(height_shift_range=0.5,zoom_range=0.2,rotation_range=45)\n",
    "        it = datagen.flow(samples, batch_size=1)\n",
    "        counter = 1\n",
    "        os.mkdir(os.path.join(\"output\",type+\"_\"+color+\"_\"+company+\"_\"+scratch+\"_\"+view))\n",
    "        for i in range(no_of_images):\n",
    "            \n",
    "            batch = it.next()\n",
    "            image = batch[0].astype('uint8')\n",
    "            p = os.path.join(\"output\",type+\"_\"+color+\"_\"+company+\"_\"+scratch+\"_\"+view,str(counter)+\".png\")\n",
    "            print(p)\n",
    "            cv2.imwrite(p,image)\n",
    "            counter+=1\n",
    "    \n",
    "    "
   ]
  },
  {
   "cell_type": "code",
   "execution_count": 9,
   "metadata": {},
   "outputs": [
    {
     "name": "stdout",
     "output_type": "stream",
     "text": [
      "trolley violet alpha 1032 581 0 right\n"
     ]
    },
    {
     "ename": "FileNotFoundError",
     "evalue": "[Errno 2] No such file or directory: 'output/trolley_violet_alpha_0_right'",
     "output_type": "error",
     "traceback": [
      "\u001b[0;31m---------------------------------------------------------------------------\u001b[0m",
      "\u001b[0;31mFileNotFoundError\u001b[0m                         Traceback (most recent call last)",
      "\u001b[0;32m<ipython-input-9-dbd8d3b69a1e>\u001b[0m in \u001b[0;36m<module>\u001b[0;34m\u001b[0m\n\u001b[0;32m----> 1\u001b[0;31m \u001b[0maugmented_images_generations\u001b[0m\u001b[0;34m(\u001b[0m\u001b[0;34m\"data\"\u001b[0m\u001b[0;34m,\u001b[0m\u001b[0;36m20\u001b[0m\u001b[0;34m)\u001b[0m\u001b[0;34m\u001b[0m\u001b[0;34m\u001b[0m\u001b[0m\n\u001b[0m",
      "\u001b[0;32m<ipython-input-8-82b315e904fc>\u001b[0m in \u001b[0;36maugmented_images_generations\u001b[0;34m(path, no_of_images)\u001b[0m\n\u001b[1;32m     15\u001b[0m         \u001b[0mit\u001b[0m \u001b[0;34m=\u001b[0m \u001b[0mdatagen\u001b[0m\u001b[0;34m.\u001b[0m\u001b[0mflow\u001b[0m\u001b[0;34m(\u001b[0m\u001b[0msamples\u001b[0m\u001b[0;34m,\u001b[0m \u001b[0mbatch_size\u001b[0m\u001b[0;34m=\u001b[0m\u001b[0;36m1\u001b[0m\u001b[0;34m)\u001b[0m\u001b[0;34m\u001b[0m\u001b[0;34m\u001b[0m\u001b[0m\n\u001b[1;32m     16\u001b[0m         \u001b[0mcounter\u001b[0m \u001b[0;34m=\u001b[0m \u001b[0;36m1\u001b[0m\u001b[0;34m\u001b[0m\u001b[0;34m\u001b[0m\u001b[0m\n\u001b[0;32m---> 17\u001b[0;31m         \u001b[0mos\u001b[0m\u001b[0;34m.\u001b[0m\u001b[0mmkdir\u001b[0m\u001b[0;34m(\u001b[0m\u001b[0mos\u001b[0m\u001b[0;34m.\u001b[0m\u001b[0mpath\u001b[0m\u001b[0;34m.\u001b[0m\u001b[0mjoin\u001b[0m\u001b[0;34m(\u001b[0m\u001b[0;34m\"output\"\u001b[0m\u001b[0;34m,\u001b[0m\u001b[0mtype\u001b[0m\u001b[0;34m+\u001b[0m\u001b[0;34m\"_\"\u001b[0m\u001b[0;34m+\u001b[0m\u001b[0mcolor\u001b[0m\u001b[0;34m+\u001b[0m\u001b[0;34m\"_\"\u001b[0m\u001b[0;34m+\u001b[0m\u001b[0mcompany\u001b[0m\u001b[0;34m+\u001b[0m\u001b[0;34m\"_\"\u001b[0m\u001b[0;34m+\u001b[0m\u001b[0mscratch\u001b[0m\u001b[0;34m+\u001b[0m\u001b[0;34m\"_\"\u001b[0m\u001b[0;34m+\u001b[0m\u001b[0mview\u001b[0m\u001b[0;34m)\u001b[0m\u001b[0;34m)\u001b[0m\u001b[0;34m\u001b[0m\u001b[0;34m\u001b[0m\u001b[0m\n\u001b[0m\u001b[1;32m     18\u001b[0m         \u001b[0;32mfor\u001b[0m \u001b[0mi\u001b[0m \u001b[0;32min\u001b[0m \u001b[0mrange\u001b[0m\u001b[0;34m(\u001b[0m\u001b[0mno_of_images\u001b[0m\u001b[0;34m)\u001b[0m\u001b[0;34m:\u001b[0m\u001b[0;34m\u001b[0m\u001b[0;34m\u001b[0m\u001b[0m\n\u001b[1;32m     19\u001b[0m \u001b[0;34m\u001b[0m\u001b[0m\n",
      "\u001b[0;31mFileNotFoundError\u001b[0m: [Errno 2] No such file or directory: 'output/trolley_violet_alpha_0_right'"
     ]
    }
   ],
   "source": [
    "augmented_images_generations(\"data\",20)"
   ]
  },
  {
   "cell_type": "code",
   "execution_count": 81,
   "metadata": {},
   "outputs": [
    {
     "data": {
      "text/plain": [
       "['handbag_red_joy_0_back',\n",
       " 'backpack_grey_wildcraft_0_left',\n",
       " 'trolley_red_safari_0_left',\n",
       " 'baggage_blue_x_0_front',\n",
       " 'suitcase_grey_alpha_0_front',\n",
       " '.DS_Store',\n",
       " 'trolley_violet_alpha_0_left',\n",
       " 'trolley_violet_alpha_0_right',\n",
       " 'baggage_red_flightway_0_front',\n",
       " 'backpack_grey_wildcraft_0_back',\n",
       " 'trolley_violet_american tourister_0_left',\n",
       " 'handbag_red_joy_0_left',\n",
       " 'handbag_red_joy_0_front',\n",
       " 'backpack_black_hp_0_front',\n",
       " 'backpack_grey_wildcraft_0_front',\n",
       " 'backpack_black_dell_0_top',\n",
       " 'trolley_red_safari_0_right',\n",
       " 'baggage_red_y_1_front',\n",
       " 'trolley_violet_alpha_0_back',\n",
       " 'baggage_red_flightway_0_top',\n",
       " 'backpack_black_hp_0_right',\n",
       " 'baggage_red_flightway_0_back',\n",
       " 'baggage_blue_x_0_back',\n",
       " 'backpack_black_wildcraft_0_back',\n",
       " 'trolley_red_safari_0_front',\n",
       " 'baggage_red_y_1_right',\n",
       " 'backpack_black_hp_0_left',\n",
       " 'backpack_blue_hp_1_back',\n",
       " 'backpack_orange+black_hashtag_0_front',\n",
       " 'backpack_black_dell_0_back',\n",
       " 'baggage_red_y_1_left',\n",
       " 'baggage_red_flightway_0_left',\n",
       " 'trolley_violet_alpha_0_front',\n",
       " 'suitcase_grey_alpha_0_left',\n",
       " 'baggage_red_y_1_top',\n",
       " 'trolley_violet_american tourister_0_top',\n",
       " 'backpack_black_wildcraft_0_front',\n",
       " 'backpack_black_dell_0_front',\n",
       " 'baggage_blue_x_0_top',\n",
       " 'backpack_black_hp_0_back',\n",
       " 'suitcase_grey_alpha_0_top',\n",
       " 'trolley_red_safari_0_top',\n",
       " 'baggage_blue_x_0_right',\n",
       " 'baggage_red_y_1_back']"
      ]
     },
     "execution_count": 81,
     "metadata": {},
     "output_type": "execute_result"
    }
   ],
   "source": [
    "os.listdir(\"output\")"
   ]
  },
  {
   "cell_type": "code",
   "execution_count": 131,
   "metadata": {},
   "outputs": [
    {
     "name": "stdout",
     "output_type": "stream",
     "text": [
      "['handbag', 'red', 'joy', '0', 'back']\n",
      "['backpack', 'grey', 'wildcraft', '0', 'left']\n",
      "['trolley', 'red', 'safari', '0', 'left']\n",
      "['baggage', 'blue', 'x', '0', 'front']\n",
      "['suitcase', 'grey', 'alpha', '0', 'front']\n",
      "['.DS', 'Store']\n",
      "['trolley', 'violet', 'alpha', '0', 'left']\n",
      "['trolley', 'violet', 'alpha', '0', 'right']\n",
      "['baggage', 'red', 'flightway', '0', 'front']\n",
      "['backpack', 'grey', 'wildcraft', '0', 'back']\n",
      "['trolley', 'violet', 'american tourister', '0', 'left']\n",
      "['handbag', 'red', 'joy', '0', 'left']\n",
      "['handbag', 'red', 'joy', '0', 'front']\n",
      "['backpack', 'black', 'hp', '0', 'front']\n",
      "['backpack', 'grey', 'wildcraft', '0', 'front']\n",
      "['backpack', 'black', 'dell', '0', 'top']\n",
      "['trolley', 'red', 'safari', '0', 'right']\n",
      "['baggage', 'red', 'y', '1', 'front']\n",
      "['trolley', 'violet', 'alpha', '0', 'back']\n",
      "['baggage', 'red', 'flightway', '0', 'top']\n",
      "['backpack', 'black', 'hp', '0', 'right']\n",
      "['baggage', 'red', 'flightway', '0', 'back']\n",
      "['baggage', 'blue', 'x', '0', 'back']\n",
      "['backpack', 'black', 'wildcraft', '0', 'back']\n",
      "['trolley', 'red', 'safari', '0', 'front']\n",
      "['baggage', 'red', 'y', '1', 'right']\n",
      "['backpack', 'black', 'hp', '0', 'left']\n",
      "['backpack', 'blue', 'hp', '1', 'back']\n",
      "['backpack', 'orange+black', 'hashtag', '0', 'front']\n",
      "['backpack', 'black', 'dell', '0', 'back']\n",
      "['baggage', 'red', 'y', '1', 'left']\n",
      "['baggage', 'red', 'flightway', '0', 'left']\n",
      "['trolley', 'violet', 'alpha', '0', 'front']\n",
      "['suitcase', 'grey', 'alpha', '0', 'left']\n",
      "['baggage', 'red', 'y', '1', 'top']\n",
      "['trolley', 'violet', 'american tourister', '0', 'top']\n",
      "['backpack', 'black', 'wildcraft', '0', 'front']\n",
      "['backpack', 'black', 'dell', '0', 'front']\n",
      "['baggage', 'blue', 'x', '0', 'top']\n",
      "['backpack', 'black', 'hp', '0', 'back']\n",
      "['suitcase', 'grey', 'alpha', '0', 'top']\n",
      "['trolley', 'red', 'safari', '0', 'top']\n",
      "['baggage', 'blue', 'x', '0', 'right']\n",
      "['baggage', 'red', 'y', '1', 'back']\n"
     ]
    }
   ],
   "source": [
    "#Image augmentation\n",
    "type_labels=[]\n",
    "color_labels=[]\n",
    "view_labels=[]\n",
    "company_labels=[]\n",
    "scratch_labels=[]\n",
    "data=[]\n",
    "\n",
    "for i in os.listdir(\"output\"):\n",
    "    \n",
    "    print(i.split('_')[:])\n",
    "    if(i==\".DS_Store\"):\n",
    "        continue\n",
    "    (type,color,company,scratch,view) = i.split('_')[:]\n",
    "    view = view.split('.')[0]\n",
    "    for j in os.listdir(\"output/\"+i):\n",
    "        image = cv2.imread(\"output/\"+i+\"/\"+j)\n",
    "        image = cv2.resize(image, (IMAGE_DIMS[1], IMAGE_DIMS[0]))\n",
    "        image = cv2.cvtColor(image, cv2.COLOR_BGR2RGB)\n",
    "        image = img_to_array(image)\n",
    "        data.append(image)\n",
    "        type_labels.append(type)\n",
    "        color_labels.append(color)\n",
    "        view_labels.append(view)\n",
    "        company_labels.append(company)\n",
    "        scratch_labels.append(int(scratch))\n",
    "        \n",
    "        \n",
    "        "
   ]
  },
  {
   "cell_type": "code",
   "execution_count": 39,
   "metadata": {},
   "outputs": [
    {
     "name": "stdout",
     "output_type": "stream",
     "text": [
      "['trolley', 'violet', 'alpha', '1032', '581', '0', 'right.jpeg']\n",
      "['baggage', 'red', 'y', '14', '15', '1', 'left.jpg']\n",
      "['trolley', 'red', 'safari', '8', '19', '0', 'top.jpg']\n",
      "['baggage', 'blue', 'x', '12', '13', '0', 'front.jpg']\n",
      "['baggage', 'blue', 'x', '12', '13', '0', 'right.jpg']\n",
      "['handbag', 'red', 'joy', '846', '2109', '0', 'left.jpg']\n",
      "['suitcase', 'grey', 'alpha', '1107', '1967', '0', 'top.jpg']\n",
      "['.DS', 'Store']\n",
      "['backpack', 'black', 'dell', '917', '737', '0', 'front.jpg']\n",
      "['backpack', 'black', 'dell', '861', '1095', '0', 'top.jpg']\n",
      "['baggage', 'red', 'y', '14', '15', '1', 'top.jpg']\n",
      "['backpack', 'black', 'hp', '975', '1280', '0', 'left.jpeg']\n",
      "['backpack', 'grey', 'wildcraft', '1334', '1555', '0', 'front.jpg']\n",
      "['backpack', 'black', 'dell', '671', '692', '0', 'back.jpg']\n",
      "['backpack', 'black', 'wildcraft', '780', '1040', '0', 'back.jpg']\n",
      "['baggage', 'red', 'flightway', '921', '866', '0', 'left.jpg']\n",
      "['backpack', 'blue', 'hp', '214', '284', '1', 'back.png']\n",
      "['trolley', 'violet', 'alpha', '1032', '581', '0', 'left.jpeg']\n",
      "['baggage', 'red', 'y', '14', '15', '1', 'back.jpg']\n",
      "['suitcase', 'grey', 'alpha', '751', '1288', '0', 'left.jpg']\n",
      "['backpack', 'black', 'hp', '975', '1280', '0', 'back.png']\n",
      "['handbag', 'red', 'joy', '945', '1225', '0', 'front.jpg']\n",
      "['backpack', 'black', 'wildcraft', '780', '1040', '0', 'front.jpg']\n",
      "['trolley', 'violet', 'alpha', '1032', '581', '0', 'front.png']\n",
      "['trolley', 'red', 'safari', '8', '19', '0', 'right.jpg']\n",
      "['trolley', 'red', 'safari', '8', '19', '0', 'front.jpg']\n",
      "['trolley', 'violet', 'alpha', '1032', '581', '0', 'back.jpeg']\n",
      "['baggage', 'red', 'flightway', '987', '1211', '0', 'top.jpg']\n",
      "['baggage', 'red', 'flightway', '1140', '970', '0', 'front.jpg']\n",
      "['backpack', 'grey', 'wildcraft', '925', '1014', '0', 'back.jpg']\n",
      "['handbag', 'red', 'joy', '870', '1308', '0', 'back.jpg']\n",
      "['trolley', 'red', 'safari', '8', '19', '0', 'left.jpg']\n",
      "['baggage', 'blue', 'x', '12', '13', '0', 'back.jpg']\n",
      "['baggage', 'blue', 'x', '12', '13', '0', 'top.jpg']\n",
      "['baggage', 'red', 'flightway', '1128', '875', '0', 'back.jpg']\n",
      "['backpack', 'black', 'hp', '975', '1280', '0', 'right.png']\n",
      "['backpack', 'black', 'hp', '975', '1280', '0', 'front.png']\n",
      "['backpack', 'grey', 'wildcraft', '2023', '1609', '0', 'left.jpg']\n",
      "['suitcase', 'grey', 'alpha', '1558', '1453', '0', 'front.jpg']\n",
      "['baggage', 'red', 'y', '14', '15', '1', 'right.jpg']\n",
      "['baggage', 'red', 'y', '14', '15', '1', 'front.jpg']\n"
     ]
    }
   ],
   "source": [
    "type_labels=[]\n",
    "color_labels=[]\n",
    "view_labels=[]\n",
    "company_labels=[]\n",
    "scratch_labels=[]\n",
    "data=[]\n",
    "\n",
    "for i in os.listdir(\"data\"):\n",
    "    \n",
    "    print(i.split('_')[:])\n",
    "    if(i==\".DS_Store\"):\n",
    "        continue\n",
    "    (type,color,company,height,width,scratch,view) = i.split('_')[:]\n",
    "    \n",
    "        \n",
    "    view = view.split('.')[0]\n",
    "   \n",
    "    image = cv2.imread(\"data/\"+i)\n",
    "    image = cv2.resize(image, (IMAGE_DIMS[1], IMAGE_DIMS[0]))\n",
    "    image = cv2.cvtColor(image, cv2.COLOR_BGR2RGB)\n",
    "    image = img_to_array(image)\n",
    "    data.append(image)\n",
    "    type_labels.append(type)\n",
    "    color_labels.append(color)\n",
    "    view_labels.append(view)\n",
    "    company_labels.append(company)\n",
    "    scratch_labels.append(int(scratch))\n",
    "        "
   ]
  },
  {
   "cell_type": "code",
   "execution_count": 40,
   "metadata": {},
   "outputs": [
    {
     "name": "stdout",
     "output_type": "stream",
     "text": [
      "[INFO] data matrix: 40 images (8.64MB)\n"
     ]
    }
   ],
   "source": [
    "data = np.array(data, dtype=\"float\") / 255.0\n",
    "print(\"[INFO] data matrix: {} images ({:.2f}MB)\".format(\n",
    "    len(imagePaths), data.nbytes / (1024 * 1000.0)))\n",
    "\n",
    "type_labels = np.array(type_labels)\n",
    "color_labels = np.array(color_labels)\n",
    "view_labels = np.array(view_labels)\n",
    "company_labels = np.array(company_labels)\n",
    "scratch_labels = [int(x) for x in scratch_labels]\n",
    "scratch_labels = np.array(scratch_labels)\n",
    "\n"
   ]
  },
  {
   "cell_type": "code",
   "execution_count": 24,
   "metadata": {},
   "outputs": [
    {
     "name": "stdout",
     "output_type": "stream",
     "text": [
      "['alpha', 'y', 'safari', 'x', 'x', 'joy', 'alpha', 'dell', 'dell', 'y', 'hp', 'wildcraft', 'dell', 'wildcraft', 'flightway', 'hp', 'alpha', 'y', 'alpha', 'hp', 'joy', 'wildcraft', 'alpha', 'safari', 'safari', 'alpha', 'flightway', 'flightway', 'wildcraft', 'joy', 'safari', 'x', 'x', 'flightway', 'hp', 'hp', 'wildcraft', 'alpha', 'y', 'y']\n"
     ]
    }
   ],
   "source": [
    "print(company_labels)"
   ]
  },
  {
   "cell_type": "code",
   "execution_count": 41,
   "metadata": {},
   "outputs": [
    {
     "name": "stdout",
     "output_type": "stream",
     "text": [
      "[INFO] binarizing labels...\n"
     ]
    }
   ],
   "source": [
    "print(\"[INFO] binarizing labels...\")\n",
    "typeLB = LabelBinarizer()\n",
    "colorLB = LabelBinarizer()\n",
    "viewLB = LabelBinarizer()\n",
    "companyLB = LabelBinarizer()\n",
    "\n",
    "type_labels = typeLB.fit_transform(type_labels)\n",
    "color_labels = colorLB.fit_transform(color_labels)\n",
    "view_labels = viewLB.fit_transform(view_labels)\n",
    "company_labels = companyLB.fit_transform(company_labels)\n",
    "\n",
    "\n",
    "split = train_test_split(data, type_labels, color_labels,view_labels,company_labels,scratch_labels,\n",
    "    test_size=0.2, random_state=42)\n",
    "\n",
    "(trainX, testX, trainTypeY, testTypeY,\n",
    "    trainColorY, testColorY,trainViewY,testViewY,trainCompanyY,testCompanyY,trainScratchY,testScratchY) = split\n",
    "\n",
    "\n",
    "\n"
   ]
  },
  {
   "cell_type": "code",
   "execution_count": 42,
   "metadata": {},
   "outputs": [
    {
     "name": "stdout",
     "output_type": "stream",
     "text": [
      "['alpha' 'dell' 'flightway' 'hp' 'joy' 'safari' 'wildcraft' 'x' 'y']\n"
     ]
    }
   ],
   "source": [
    "print(companyLB.classes_)"
   ]
  },
  {
   "cell_type": "code",
   "execution_count": 60,
   "metadata": {},
   "outputs": [
    {
     "name": "stdout",
     "output_type": "stream",
     "text": [
      "[INFO] compiling model...\n"
     ]
    }
   ],
   "source": [
    "losses = {\n",
    "    \"type_output\": \"categorical_crossentropy\",\n",
    "    \"color_output\": \"categorical_crossentropy\",\n",
    "    #\"company_output\":\"categorical_crossentropy\",\n",
    "    #\"scratch_output\":\"binary_crossentropy\",\n",
    "    #\"view_output\":\"categorical_crossentropy\"\n",
    "}\n",
    "\n",
    "lossWeights = {\"type_output\": 1.0, \"color_output\": 1.0,\n",
    "               #\"company_output\":1.0,\n",
    "              #\"scratch_output\":0.1,\"view_output\":1.0\n",
    "              }\n",
    "model = MyModel.build(96,96,len(typeLB.classes_),len(colorLB.classes_),len(companyLB.classes_),len(viewLB.classes_))\n",
    "\n",
    "print(\"[INFO] compiling model...\")\n",
    "opt = Adam(lr=INIT_LR, decay=INIT_LR / EPOCHS)\n",
    "model.compile(optimizer=opt, loss=losses, loss_weights=lossWeights,\n",
    "    metrics=[\"accuracy\"],run_eagerly=True)"
   ]
  },
  {
   "cell_type": "code",
   "execution_count": 61,
   "metadata": {},
   "outputs": [
    {
     "name": "stdout",
     "output_type": "stream",
     "text": [
      "Epoch 1/10\n",
      "2/2 [==============================] - 0s 183ms/step - loss: 5.2934 - type_output_loss: 2.4775 - color_output_loss: 2.8159 - type_output_accuracy: 0.2500 - color_output_accuracy: 0.2500\n",
      "Epoch 2/10\n",
      "2/2 [==============================] - 0s 150ms/step - loss: 4.3363 - type_output_loss: 2.7127 - color_output_loss: 1.6236 - type_output_accuracy: 0.1500 - color_output_accuracy: 0.4750\n",
      "Epoch 3/10\n",
      "2/2 [==============================] - 0s 167ms/step - loss: 3.2002 - type_output_loss: 2.3756 - color_output_loss: 0.8246 - type_output_accuracy: 0.3500 - color_output_accuracy: 0.6500\n",
      "Epoch 4/10\n",
      "2/2 [==============================] - 0s 148ms/step - loss: 3.4400 - type_output_loss: 2.6630 - color_output_loss: 0.7770 - type_output_accuracy: 0.2250 - color_output_accuracy: 0.7000\n",
      "Epoch 5/10\n",
      "2/2 [==============================] - 0s 172ms/step - loss: 3.2510 - type_output_loss: 2.3694 - color_output_loss: 0.8816 - type_output_accuracy: 0.2750 - color_output_accuracy: 0.6750\n",
      "Epoch 6/10\n",
      "2/2 [==============================] - 0s 168ms/step - loss: 2.7908 - type_output_loss: 2.0819 - color_output_loss: 0.7089 - type_output_accuracy: 0.4000 - color_output_accuracy: 0.7000\n",
      "Epoch 7/10\n",
      "2/2 [==============================] - 0s 152ms/step - loss: 2.6949 - type_output_loss: 2.1855 - color_output_loss: 0.5094 - type_output_accuracy: 0.2750 - color_output_accuracy: 0.8250\n",
      "Epoch 8/10\n",
      "2/2 [==============================] - 0s 148ms/step - loss: 2.2477 - type_output_loss: 1.8961 - color_output_loss: 0.3516 - type_output_accuracy: 0.3750 - color_output_accuracy: 0.8500\n",
      "Epoch 9/10\n",
      "2/2 [==============================] - 0s 183ms/step - loss: 2.1004 - type_output_loss: 1.6812 - color_output_loss: 0.4191 - type_output_accuracy: 0.4750 - color_output_accuracy: 0.8500\n",
      "Epoch 10/10\n",
      "2/2 [==============================] - 0s 153ms/step - loss: 2.0820 - type_output_loss: 1.7426 - color_output_loss: 0.3394 - type_output_accuracy: 0.4250 - color_output_accuracy: 0.8750\n"
     ]
    }
   ],
   "source": [
    "EPOCHS = 10\n",
    "\n",
    "H = model.fit(x=data,\n",
    "    y={\"type_output\": type_labels, \"color_output\": color_labels\n",
    "       #,\"company_output\":company_labels,\n",
    "       #\"scratch_output\":scratch_labels,\n",
    "      #\"view_output\":view_labels\n",
    "      },\n",
    "    epochs=EPOCHS,\n",
    "    verbose=1)"
   ]
  },
  {
   "cell_type": "code",
   "execution_count": 62,
   "metadata": {},
   "outputs": [
    {
     "name": "stdout",
     "output_type": "stream",
     "text": [
      "trolley_violet_alpha_1032_581_0_right.jpegtrolley violet\n",
      "baggage_red_y_14_15_1_left.jpgtrolley grey\n",
      "trolley_red_safari_8_19_0_top.jpgtrolley violet\n",
      "baggage_blue_x_12_13_0_front.jpgtrolley grey\n",
      "baggage_blue_x_12_13_0_right.jpgtrolley violet\n",
      "handbag_red_joy_846_2109_0_left.jpgtrolley grey\n",
      "suitcase_grey_alpha_1107_1967_0_top.jpgtrolley grey\n",
      "backpack_black_dell_917_737_0_front.jpgtrolley violet\n",
      "backpack_black_dell_861_1095_0_top.jpgtrolley violet\n",
      "baggage_red_y_14_15_1_top.jpgtrolley violet\n",
      "backpack_black_hp_975_1280_0_left.jpegtrolley violet\n",
      "backpack_grey_wildcraft_1334_1555_0_front.jpgtrolley violet\n",
      "backpack_black_dell_671_692_0_back.jpgtrolley violet\n",
      "backpack_black_wildcraft_780_1040_0_back.jpgtrolley violet\n",
      "baggage_red_flightway_921_866_0_left.jpgtrolley grey\n",
      "backpack_blue_hp_214_284_1_back.pngtrolley violet\n",
      "trolley_violet_alpha_1032_581_0_left.jpegtrolley violet\n",
      "baggage_red_y_14_15_1_back.jpgtrolley violet\n",
      "suitcase_grey_alpha_751_1288_0_left.jpgtrolley violet\n",
      "backpack_black_hp_975_1280_0_back.pngtrolley violet\n",
      "handbag_red_joy_945_1225_0_front.jpgtrolley violet\n",
      "backpack_black_wildcraft_780_1040_0_front.jpgtrolley violet\n",
      "trolley_violet_alpha_1032_581_0_front.pngtrolley violet\n",
      "trolley_red_safari_8_19_0_right.jpgtrolley violet\n",
      "trolley_red_safari_8_19_0_front.jpgtrolley violet\n",
      "trolley_violet_alpha_1032_581_0_back.jpegtrolley violet\n",
      "baggage_red_flightway_987_1211_0_top.jpgtrolley violet\n",
      "baggage_red_flightway_1140_970_0_front.jpgtrolley grey\n",
      "backpack_grey_wildcraft_925_1014_0_back.jpgtrolley grey\n",
      "handbag_red_joy_870_1308_0_back.jpgtrolley violet\n",
      "trolley_red_safari_8_19_0_left.jpgtrolley violet\n",
      "baggage_blue_x_12_13_0_back.jpgtrolley violet\n",
      "baggage_blue_x_12_13_0_top.jpgtrolley violet\n",
      "baggage_red_flightway_1128_875_0_back.jpgtrolley grey\n",
      "backpack_black_hp_975_1280_0_right.pngtrolley violet\n",
      "backpack_black_hp_975_1280_0_front.pngtrolley violet\n",
      "backpack_grey_wildcraft_2023_1609_0_left.jpgtrolley violet\n",
      "suitcase_grey_alpha_1558_1453_0_front.jpgtrolley violet\n",
      "baggage_red_y_14_15_1_right.jpgtrolley violet\n",
      "baggage_red_y_14_15_1_front.jpgtrolley violet\n"
     ]
    }
   ],
   "source": [
    "for i in os.listdir(\"data\"):\n",
    "    \n",
    "    image = cv2.imread(\"data/\"+i)\n",
    "    if(i==\".DS_Store\"):\n",
    "        continue\n",
    "    print(i,end=\"\")\n",
    "    image = cv2.resize(image, (IMAGE_DIMS[1], IMAGE_DIMS[0]))\n",
    "    image = cv2.cvtColor(image, cv2.COLOR_BGR2RGB)\n",
    "\n",
    "    image = img_to_array(image)\n",
    "    samples = expand_dims(image, 0)\n",
    "    res = model.predict(samples)\n",
    "\n",
    "    print(typeLB.classes_[np.argmax(res[0][0])],colorLB.classes_[np.argmax(res[1][0])])"
   ]
  },
  {
   "cell_type": "code",
   "execution_count": 51,
   "metadata": {},
   "outputs": [],
   "source": [
    "model.save(\"model1.h5\")"
   ]
  },
  {
   "cell_type": "code",
   "execution_count": 32,
   "metadata": {},
   "outputs": [
    {
     "name": "stdout",
     "output_type": "stream",
     "text": [
      "['backpack' 'baggage' 'handbag' 'suitcase' 'trolley']\n"
     ]
    }
   ],
   "source": [
    "print(typeLB.classes_)"
   ]
  },
  {
   "cell_type": "code",
   "execution_count": 33,
   "metadata": {},
   "outputs": [
    {
     "name": "stdout",
     "output_type": "stream",
     "text": [
      "['alpha' 'dell' 'flightway' 'hp' 'joy' 'safari' 'wildcraft' 'x' 'y']\n"
     ]
    }
   ],
   "source": [
    "print(companyLB.classes_)"
   ]
  },
  {
   "cell_type": "code",
   "execution_count": 52,
   "metadata": {},
   "outputs": [
    {
     "name": "stdout",
     "output_type": "stream",
     "text": [
      "HI\n"
     ]
    }
   ],
   "source": [
    "f = open(\"type_lb.pickle\",\"wb\")\n",
    "\n",
    "\n",
    "f.write(pickle.dumps(typeLB))\n",
    "\n",
    "f = open(\"color_lb.pickle\",\"wb\")\n",
    "\n",
    "f.write(pickle.dumps(colorLB))\n",
    "\n",
    "f = open(\"company_lb.pickle\",\"wb\")\n",
    "\n",
    "f.write(pickle.dumps(companyLB))\n",
    "\n",
    "\n",
    "print(\"HI\")"
   ]
  },
  {
   "cell_type": "code",
   "execution_count": 22,
   "metadata": {},
   "outputs": [],
   "source": [
    "f =  open(\"type_lb.pickle\",\"rb\") \n",
    "t=pickle.loads(f.read())"
   ]
  },
  {
   "cell_type": "code",
   "execution_count": 236,
   "metadata": {},
   "outputs": [
    {
     "data": {
      "text/plain": [
       "array(['backpack', 'baggage', 'handbag', 'suitcase', 'trolley'],\n",
       "      dtype='<U8')"
      ]
     },
     "execution_count": 236,
     "metadata": {},
     "output_type": "execute_result"
    }
   ],
   "source": [
    "t.classes_"
   ]
  },
  {
   "cell_type": "code",
   "execution_count": 239,
   "metadata": {},
   "outputs": [],
   "source": [
    "def fun():\n",
    "    return {'path':'123',\n",
    "    'type':typeLB.classes_[np.argmax(res[0][0])],\n",
    "    'color':colorLB.classes_[np.argmax(res[1][0])],\n",
    "    'company':companyLB.classes_[np.argmax(res[2][0])]\n",
    "    }"
   ]
  },
  {
   "cell_type": "code",
   "execution_count": 63,
   "metadata": {},
   "outputs": [],
   "source": [
    "\n",
    "import tensorflow as tf\n",
    "\n",
    "from keras.models import model_from_json\n",
    "model.save('model2.model',save_format=\"h5\")\n",
    "\n",
    "from keras.models import load_model\n",
    "\n",
    "x=load_model('model2.model',custom_objects={\"\": tf})"
   ]
  },
  {
   "cell_type": "code",
   "execution_count": 64,
   "metadata": {},
   "outputs": [
    {
     "name": "stdout",
     "output_type": "stream",
     "text": [
      "trolley_violet_alpha_1032_581_0_right.jpegtrolley violet\n",
      "baggage_red_y_14_15_1_left.jpgtrolley grey\n",
      "trolley_red_safari_8_19_0_top.jpgtrolley violet\n",
      "baggage_blue_x_12_13_0_front.jpgtrolley grey\n",
      "baggage_blue_x_12_13_0_right.jpgtrolley violet\n",
      "handbag_red_joy_846_2109_0_left.jpgtrolley grey\n",
      "suitcase_grey_alpha_1107_1967_0_top.jpgtrolley grey\n",
      "backpack_black_dell_917_737_0_front.jpgtrolley violet\n",
      "backpack_black_dell_861_1095_0_top.jpgtrolley violet\n",
      "baggage_red_y_14_15_1_top.jpgtrolley violet\n",
      "backpack_black_hp_975_1280_0_left.jpegtrolley violet\n",
      "backpack_grey_wildcraft_1334_1555_0_front.jpgtrolley violet\n",
      "backpack_black_dell_671_692_0_back.jpgtrolley violet\n",
      "backpack_black_wildcraft_780_1040_0_back.jpgtrolley violet\n",
      "baggage_red_flightway_921_866_0_left.jpgtrolley grey\n",
      "backpack_blue_hp_214_284_1_back.pngtrolley violet\n",
      "trolley_violet_alpha_1032_581_0_left.jpegtrolley violet\n",
      "baggage_red_y_14_15_1_back.jpgtrolley violet\n",
      "suitcase_grey_alpha_751_1288_0_left.jpgtrolley violet\n",
      "backpack_black_hp_975_1280_0_back.pngtrolley violet\n",
      "handbag_red_joy_945_1225_0_front.jpgtrolley violet\n",
      "backpack_black_wildcraft_780_1040_0_front.jpgtrolley violet\n",
      "trolley_violet_alpha_1032_581_0_front.pngtrolley violet\n",
      "trolley_red_safari_8_19_0_right.jpgtrolley violet\n",
      "trolley_red_safari_8_19_0_front.jpgtrolley violet\n",
      "trolley_violet_alpha_1032_581_0_back.jpegtrolley violet\n",
      "baggage_red_flightway_987_1211_0_top.jpgtrolley violet\n",
      "baggage_red_flightway_1140_970_0_front.jpgtrolley grey\n",
      "backpack_grey_wildcraft_925_1014_0_back.jpgtrolley grey\n",
      "handbag_red_joy_870_1308_0_back.jpgtrolley violet\n",
      "trolley_red_safari_8_19_0_left.jpgtrolley violet\n",
      "baggage_blue_x_12_13_0_back.jpgtrolley violet\n",
      "baggage_blue_x_12_13_0_top.jpgtrolley violet\n",
      "baggage_red_flightway_1128_875_0_back.jpgtrolley grey\n",
      "backpack_black_hp_975_1280_0_right.pngtrolley violet\n",
      "backpack_black_hp_975_1280_0_front.pngtrolley violet\n",
      "backpack_grey_wildcraft_2023_1609_0_left.jpgtrolley violet\n",
      "suitcase_grey_alpha_1558_1453_0_front.jpgtrolley violet\n",
      "baggage_red_y_14_15_1_right.jpgtrolley violet\n",
      "baggage_red_y_14_15_1_front.jpgtrolley violet\n"
     ]
    }
   ],
   "source": [
    "for i in os.listdir(\"data\"):\n",
    "    \n",
    "    image = cv2.imread(\"data/\"+i)\n",
    "    if(i==\".DS_Store\"):\n",
    "        continue\n",
    "    print(i,end=\"\")\n",
    "    image = cv2.resize(image, (IMAGE_DIMS[1], IMAGE_DIMS[0]))\n",
    "    image = cv2.cvtColor(image, cv2.COLOR_BGR2RGB)\n",
    "\n",
    "    image = img_to_array(image)\n",
    "    samples = expand_dims(image, 0)\n",
    "    res = x.predict(samples)\n",
    "\n",
    "    print(typeLB.classes_[np.argmax(res[0][0])],colorLB.classes_[np.argmax(res[1][0])])"
   ]
  },
  {
   "cell_type": "code",
   "execution_count": 66,
   "metadata": {},
   "outputs": [],
   "source": [
    "from flask import request\n",
    "from flask import jsonify\n",
    "from flask_cors import CORS, cross_origin\n",
    "from flask import render_template\n",
    "from flask import Flask\n",
    "import base64"
   ]
  },
  {
   "cell_type": "code",
   "execution_count": 67,
   "metadata": {},
   "outputs": [],
   "source": [
    "app = Flask(__name__)"
   ]
  },
  {
   "cell_type": "code",
   "execution_count": 68,
   "metadata": {},
   "outputs": [],
   "source": [
    "tem = [{'path': 'SIH_Video/7/i5_1.png', 'type': 'trolley', 'color': 'violet'}, {'path': 'SIH_Video/7/i6_1.png', 'type': 'trolley', 'color': 'violet'}, {'path': 'SIH_Video/7/i6_2.png', 'type': 'trolley', 'color': 'violet'}, {'path': 'SIH_Video/7/i6_3.png', 'type': 'trolley', 'color': 'violet'}, {'path': 'SIH_Video/7/i8_1.png', 'type': 'trolley', 'color': 'violet'}, {'path': 'SIH_Video/7/i8_2.png', 'type': 'trolley', 'color': 'violet'}, {'path': 'SIH_Video/7/i9_1.png', 'type': 'trolley', 'color': 'grey'}, {'path': 'SIH_Video/7/i10_1.png', 'type': 'trolley', 'color': 'violet'}, {'path': 'SIH_Video/7/i11_1.png', 'type': 'trolley', 'color': 'violet'}, {'path': 'SIH_Video/7/i12_1.png', 'type': 'trolley', 'color': 'violet'}, {'path': 'SIH_Video/7/i12_2.png', 'type': 'trolley', 'color': 'violet'}, {'path': 'SIH_Video/7/i13_1.png', 'type': 'trolley', 'color': 'grey'}, {'path': 'SIH_Video/7/i15_1.png', 'type': 'trolley', 'color': 'grey'}]"
   ]
  },
  {
   "cell_type": "code",
   "execution_count": 70,
   "metadata": {},
   "outputs": [
    {
     "name": "stdout",
     "output_type": "stream",
     "text": [
      "violet\n",
      "violet\n",
      "violet\n",
      "violet\n",
      "violet\n",
      "violet\n",
      "grey\n",
      "violet\n",
      "violet\n",
      "violet\n",
      "violet\n",
      "grey\n",
      "grey\n"
     ]
    }
   ],
   "source": [
    "for i in tem:\n",
    "    print(i['color'])"
   ]
  },
  {
   "cell_type": "code",
   "execution_count": null,
   "metadata": {},
   "outputs": [],
   "source": []
  }
 ],
 "metadata": {
  "kernelspec": {
   "display_name": "Python 3",
   "language": "python",
   "name": "python3"
  },
  "language_info": {
   "codemirror_mode": {
    "name": "ipython",
    "version": 3
   },
   "file_extension": ".py",
   "mimetype": "text/x-python",
   "name": "python",
   "nbconvert_exporter": "python",
   "pygments_lexer": "ipython3",
   "version": "3.7.6"
  }
 },
 "nbformat": 4,
 "nbformat_minor": 4
}
